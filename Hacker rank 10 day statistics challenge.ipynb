{
 "cells": [
  {
   "cell_type": "code",
   "execution_count": null,
   "metadata": {},
   "outputs": [],
   "source": [
    "#mean median mode day1\n",
    "n=int(input())\n",
    "x = [int(x) for x in input().split()] \n",
    "def mean(list1):\n",
    "    avg=sum(list1)/len(list1)\n",
    "    return avg\n",
    "def median(list1):\n",
    "    if(len(list1)%2==0):\n",
    "        med=len(list1)//2\n",
    "    else:\n",
    "        med=(len(list1)+1)//2\n",
    "    return (list1[med-1]+list1[med])/2\n",
    "def mode(list1):\n",
    "    dict1={}\n",
    "    for i in list1:\n",
    "        dict1[i]=list1.count(i)\n",
    "    for k,v in dict1.items():\n",
    "        if(v==max(dict1.values())):\n",
    "            return(k)  \n",
    "print(mean(x))\n",
    "print(median(x))\n",
    "print(mode(x))"
   ]
  },
  {
   "cell_type": "code",
   "execution_count": null,
   "metadata": {},
   "outputs": [],
   "source": [
    "#weighted mean day1\n",
    "n=int(input())\n",
    "sum1=0\n",
    "x = [int(x) for x in input().split()] \n",
    "y=[int(y) for y in input().split()]\n",
    "for i in range(len(y)):\n",
    "    sum1=sum1+(x[i]*y[i])\n",
    "wm=sum1/(sum(y))\n",
    "print(round(wm,1))\n"
   ]
  },
  {
   "cell_type": "code",
   "execution_count": null,
   "metadata": {},
   "outputs": [],
   "source": [
    "#STANDARD DEVIATION day2\n",
    "n=int(input()) \n",
    "sum1=0\n",
    "x = [int(x) for x in input().split()]\n",
    "avg=sum(x)/len(x)\n",
    "for i in x:\n",
    "    sum1=sum1+((i-avg)**2)\n",
    "std=(sum1/len(x))**(0.5)\n",
    "print(round(std,1))"
   ]
  },
  {
   "cell_type": "code",
   "execution_count": 2,
   "metadata": {},
   "outputs": [
    {
     "name": "stdout",
     "output_type": "stream",
     "text": [
      "10\n",
      "3 5 7 8 12 14 14 18 21 15\n",
      "7\n",
      "13\n",
      "15\n"
     ]
    }
   ],
   "source": [
    "#Quartiles day 3\n",
    "from statistics import median\n",
    "n=int(input())\n",
    "x=[int(x) for x in input().split()]\n",
    "x.sort()\n",
    "middle=int(len(x)/2)\n",
    "if len(x)%2==0:\n",
    "    lower=x[:middle]\n",
    "    upper=x[middle:]\n",
    "else:\n",
    "    lower=x[:middle]\n",
    "    upper=x[middle:]\n",
    "    \n",
    "print(int(median(lower)))\n",
    "print(int(median(x)))\n",
    "print(int(median(upper)))"
   ]
  },
  {
   "cell_type": "code",
   "execution_count": 17,
   "metadata": {},
   "outputs": [
    {
     "name": "stdout",
     "output_type": "stream",
     "text": [
      "30\n",
      "10 40 30 50 20 10 40 30 50 20 1 2 3 4 5 6 7 8 9 10 20 10 40 30 50 20 10 40 30 50\n",
      "1 2 3 4 5 6 7 8 9 10 1 2 3 4 5 6 7 8 9 10 10 40 30 50 20 10 40 30 50 20\n",
      "30\n"
     ]
    }
   ],
   "source": [
    "#inter-quartile range day 3\n",
    "from statistics import median \n",
    "n=int(input())\n",
    "l=[]\n",
    "a=-1\n",
    "x=[int(x) for x in input().split()]\n",
    "f=[int(x) for x in input().split()]\n",
    "for i in f:\n",
    "    a=a+1\n",
    "    for j in range(i):\n",
    "        l.append(x[a])\n",
    "l.sort()\n",
    "middle=int(len(l)/2)\n",
    "if(len(l)%2!=0):\n",
    "    lower=l[:middle+1]\n",
    "    upper=l[middle+1:]\n",
    "else:\n",
    "    lower=l[:middle]\n",
    "    upper=l[middle:]\n",
    "print(float(median(upper)-median(lower))"
   ]
  },
  {
   "cell_type": "code",
   "execution_count": 41,
   "metadata": {},
   "outputs": [
    {
     "name": "stdout",
     "output_type": "stream",
     "text": [
      "1.09 1\n",
      "0.696\n"
     ]
    }
   ],
   "source": [
    "#Binomial Distrubution Day 4\n",
    "def factorial(n):\n",
    "    fact=1\n",
    "    for i in range(1,n+1):\n",
    "        fact=fact*i\n",
    "    return fact\n",
    "def combination(n,x):\n",
    "    return (factorial(n)/(factorial(x)*factorial(n-x)))\n",
    "combination(6,3)\n",
    "\n",
    "def binomial(n,p,q):\n",
    "    binom=[]\n",
    "    for i in range(n+1):\n",
    "        binom.append(combination(n,i)*(p**i)*(q**(n-i)))\n",
    "    return (binom)\n",
    "\n",
    "p,q=list(map(float,input().split()))\n",
    "P=((p/q)/(p+q))\n",
    "Q=1-P\n",
    "bino=binomial(6,P,Q)\n",
    "print(round(bino[3]+bino[4]+bino[5]+bino[6],3))\n",
    "\n",
    "\n",
    "\n",
    "\n",
    "        "
   ]
  },
  {
   "cell_type": "code",
   "execution_count": null,
   "metadata": {},
   "outputs": [],
   "source": []
  }
 ],
 "metadata": {
  "anaconda-cloud": {},
  "kernelspec": {
   "display_name": "Python 3",
   "language": "python",
   "name": "python3"
  },
  "language_info": {
   "codemirror_mode": {
    "name": "ipython",
    "version": 3
   },
   "file_extension": ".py",
   "mimetype": "text/x-python",
   "name": "python",
   "nbconvert_exporter": "python",
   "pygments_lexer": "ipython3",
   "version": "3.7.6"
  }
 },
 "nbformat": 4,
 "nbformat_minor": 1
}
