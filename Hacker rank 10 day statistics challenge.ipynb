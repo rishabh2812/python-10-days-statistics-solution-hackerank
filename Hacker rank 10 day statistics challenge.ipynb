{
 "cells": [
  {
   "cell_type": "code",
   "execution_count": null,
   "metadata": {},
   "outputs": [],
   "source": [
    "#mean median mode \n",
    "n=int(input())\n",
    "x = [int(x) for x in input().split()] \n",
    "def mean(list1):\n",
    "    avg=sum(list1)/len(list1)\n",
    "    return avg\n",
    "def median(list1):\n",
    "    if(len(list1)%2==0):\n",
    "        med=len(list1)//2\n",
    "    else:\n",
    "        med=(len(list1)+1)//2\n",
    "    return (list1[med-1]+list1[med])/2\n",
    "def mode(list1):\n",
    "    dict1={}\n",
    "    for i in list1:\n",
    "        dict1[i]=list1.count(i)\n",
    "    for k,v in dict1.items():\n",
    "        if(v==max(dict1.values())):\n",
    "            return(k)  \n",
    "print(mean(x))\n",
    "print(median(x))\n",
    "print(mode(x))"
   ]
  },
  {
   "cell_type": "code",
   "execution_count": null,
   "metadata": {},
   "outputs": [],
   "source": [
    "#weighted mean \n",
    "n=int(input())\n",
    "sum1=0\n",
    "x = [int(x) for x in input().split()] \n",
    "y=[int(y) for y in input().split()]\n",
    "for i in range(len(y)):\n",
    "    sum1=sum1+(x[i]*y[i])\n",
    "wm=sum1/(sum(y))\n",
    "print(round(wm,1))\n"
   ]
  },
  {
   "cell_type": "code",
   "execution_count": null,
   "metadata": {},
   "outputs": [],
   "source": [
    "#STANDARD DEVIATION \n",
    "n=int(input()) \n",
    "sum1=0\n",
    "x = [int(x) for x in input().split()]\n",
    "avg=sum(x)/len(x)\n",
    "for i in x:\n",
    "    sum1=sum1+((i-avg)**2)\n",
    "std=(sum1/len(x))**(0.5)\n",
    "print(round(std,1))"
   ]
  },
  {
   "cell_type": "code",
   "execution_count": 2,
   "metadata": {},
   "outputs": [
    {
     "name": "stdout",
     "output_type": "stream",
     "text": [
      "10\n",
      "3 5 7 8 12 14 14 18 21 15\n",
      "7\n",
      "13\n",
      "15\n"
     ]
    }
   ],
   "source": [
    "#Quartiles \n",
    "from statistics import median\n",
    "n=int(input())\n",
    "x=[int(x) for x in input().split()]\n",
    "x.sort()\n",
    "middle=int(len(x)/2)\n",
    "if len(x)%2==0:\n",
    "    lower=x[:middle]\n",
    "    upper=x[middle:]\n",
    "else:\n",
    "    lower=x[:middle]\n",
    "    upper=x[middle:]\n",
    "    \n",
    "print(int(median(lower)))\n",
    "print(int(median(x)))\n",
    "print(int(median(upper)))"
   ]
  },
  {
   "cell_type": "code",
   "execution_count": 17,
   "metadata": {},
   "outputs": [
    {
     "name": "stdout",
     "output_type": "stream",
     "text": [
      "30\n",
      "10 40 30 50 20 10 40 30 50 20 1 2 3 4 5 6 7 8 9 10 20 10 40 30 50 20 10 40 30 50\n",
      "1 2 3 4 5 6 7 8 9 10 1 2 3 4 5 6 7 8 9 10 10 40 30 50 20 10 40 30 50 20\n",
      "30\n"
     ]
    }
   ],
   "source": [
    "#inter-quartile range \n",
    "from statistics import median \n",
    "n=int(input())\n",
    "l=[]\n",
    "a=-1\n",
    "x=[int(x) for x in input().split()]\n",
    "f=[int(x) for x in input().split()]\n",
    "for i in f:\n",
    "    a=a+1\n",
    "    for j in range(i):\n",
    "        l.append(x[a])\n",
    "l.sort()\n",
    "middle=int(len(l)/2)\n",
    "if(len(l)%2!=0):\n",
    "    lower=l[:middle+1]\n",
    "    upper=l[middle+1:]\n",
    "else:\n",
    "    lower=l[:middle]\n",
    "    upper=l[middle:]\n",
    "print(float(median(upper)-median(lower))"
   ]
  },
  {
   "cell_type": "code",
   "execution_count": 41,
   "metadata": {},
   "outputs": [
    {
     "name": "stdout",
     "output_type": "stream",
     "text": [
      "1.09 1\n",
      "0.696\n"
     ]
    }
   ],
   "source": [
    "#Binomial Distrubution \n",
    "def factorial(n):\n",
    "    fact=1\n",
    "    for i in range(1,n+1):\n",
    "        fact=fact*i\n",
    "    return fact\n",
    "def combination(n,x):\n",
    "    return (factorial(n)/(factorial(x)*factorial(n-x)))\n",
    "combination(6,3)\n",
    "\n",
    "def binomial(n,p,q):\n",
    "    binom=[]\n",
    "    for i in range(n+1):\n",
    "        binom.append(combination(n,i)*(p**i)*(q**(n-i)))\n",
    "    return (binom)\n",
    "\n",
    "p,q=list(map(float,input().split()))\n",
    "P=((p/q)/(p+q))\n",
    "Q=1-P\n",
    "bino=binomial(6,P,Q)\n",
    "print(round(bino[3]+bino[4]+bino[5]+bino[6],3))\n",
    "\n",
    "\n",
    "\n",
    "\n",
    "        "
   ]
  },
  {
   "cell_type": "code",
   "execution_count": 48,
   "metadata": {},
   "outputs": [
    {
     "name": "stdout",
     "output_type": "stream",
     "text": [
      "12 10\n",
      "0.891\n",
      "0.342\n"
     ]
    }
   ],
   "source": [
    "#binomial distribution \n",
    "def factorial(n):\n",
    "    fact=1\n",
    "    for i in range(1,n+1):\n",
    "        fact=fact*i\n",
    "    return fact\n",
    "def combination(n,x):\n",
    "    return (factorial(n)/(factorial(x)*factorial(n-x)))\n",
    "combination(6,3)\n",
    "\n",
    "def binomial(n,p,q):\n",
    "    binom=[]\n",
    "    for i in range(n+1):\n",
    "        binom.append(combination(n,i)*(p**i)*(q**(n-i)))\n",
    "    return (binom)\n",
    "p,n=list(map(int,input().split()))\n",
    "P=p/100\n",
    "bino=binomial(n,P,1-P)\n",
    "morethan2=bino[0]+bino[1]+bino[2]\n",
    "print(round(morethan2,3))\n",
    "print(round(1-morethan2+bino[2],3))"
   ]
  },
  {
   "cell_type": "code",
   "execution_count": 49,
   "metadata": {},
   "outputs": [
    {
     "name": "stdout",
     "output_type": "stream",
     "text": [
      "0.06584362139917699\n"
     ]
    }
   ],
   "source": []
  },
  {
   "cell_type": "code",
   "execution_count": 51,
   "metadata": {},
   "outputs": [
    {
     "name": "stdout",
     "output_type": "stream",
     "text": [
      "1 3\n",
      "5\n",
      "0.066\n"
     ]
    }
   ],
   "source": [
    "# Geometric Distribution\n",
    "p,q=list(map(int,input().split()))\n",
    "n=int(input())\n",
    "success=p/q\n",
    "failure=1-success\n",
    "GD=(failure**(n-1))*success\n",
    "print(round(GD,3))"
   ]
  },
  {
   "cell_type": "code",
   "execution_count": 53,
   "metadata": {},
   "outputs": [
    {
     "data": {
      "text/plain": [
       "0.06680105522522659"
      ]
     },
     "execution_count": 53,
     "metadata": {},
     "output_type": "execute_result"
    }
   ],
   "source": [
    "# Poisson Distribution\n",
    "def factorial(n):\n",
    "    fact=1\n",
    "    for i in range(1,n+1):\n",
    "        fact=fact*i\n",
    "    return fact\n",
    "Poisson=((2.71828**-2.5)*(2.5**5))/factorial(5)\n",
    "Poisson"
   ]
  },
  {
   "cell_type": "code",
   "execution_count": 2,
   "metadata": {},
   "outputs": [
    {
     "name": "stdout",
     "output_type": "stream",
     "text": [
      "0.401\n",
      "0.341\n"
     ]
    }
   ],
   "source": [
    "# normal distribution\n",
    "from math import sqrt,erf\n",
    "mu = 20\n",
    "stdev = 2\n",
    "\n",
    "x_test1 = 19.5\n",
    "\n",
    "x_testA = 20\n",
    "x_testB = 22\n",
    "\n",
    "\n",
    "\n",
    "print(round(0.5*(1+erf((x_test1-mu)/(sqrt(2)*stdev))),3))\n",
    "print(round(0.682689492137/2,3))"
   ]
  },
  {
   "cell_type": "code",
   "execution_count": 1,
   "metadata": {},
   "outputs": [
    {
     "ename": "KeyboardInterrupt",
     "evalue": "Interrupted by user",
     "output_type": "error",
     "traceback": [
      "\u001b[1;31m---------------------------------------------------------------------------\u001b[0m",
      "\u001b[1;31mKeyboardInterrupt\u001b[0m                         Traceback (most recent call last)",
      "\u001b[1;32m<ipython-input-1-9338a6884d01>\u001b[0m in \u001b[0;36m<module>\u001b[1;34m\u001b[0m\n\u001b[0;32m      3\u001b[0m \u001b[1;32mimport\u001b[0m \u001b[0mmath\u001b[0m\u001b[1;33m\u001b[0m\u001b[1;33m\u001b[0m\u001b[0m\n\u001b[0;32m      4\u001b[0m \u001b[1;33m\u001b[0m\u001b[0m\n\u001b[1;32m----> 5\u001b[1;33m \u001b[0mx\u001b[0m \u001b[1;33m=\u001b[0m \u001b[0mint\u001b[0m\u001b[1;33m(\u001b[0m\u001b[0minput\u001b[0m\u001b[1;33m(\u001b[0m\u001b[1;33m)\u001b[0m\u001b[1;33m)\u001b[0m\u001b[1;33m\u001b[0m\u001b[1;33m\u001b[0m\u001b[0m\n\u001b[0m\u001b[0;32m      6\u001b[0m \u001b[0mn\u001b[0m \u001b[1;33m=\u001b[0m \u001b[0mint\u001b[0m\u001b[1;33m(\u001b[0m\u001b[0minput\u001b[0m\u001b[1;33m(\u001b[0m\u001b[1;33m)\u001b[0m\u001b[1;33m)\u001b[0m\u001b[1;33m\u001b[0m\u001b[1;33m\u001b[0m\u001b[0m\n\u001b[0;32m      7\u001b[0m \u001b[0mmu\u001b[0m \u001b[1;33m=\u001b[0m \u001b[0mint\u001b[0m\u001b[1;33m(\u001b[0m\u001b[0minput\u001b[0m\u001b[1;33m(\u001b[0m\u001b[1;33m)\u001b[0m\u001b[1;33m)\u001b[0m\u001b[1;33m\u001b[0m\u001b[1;33m\u001b[0m\u001b[0m\n",
      "\u001b[1;32mD:\\anaconda\\lib\\site-packages\\ipykernel\\kernelbase.py\u001b[0m in \u001b[0;36mraw_input\u001b[1;34m(self, prompt)\u001b[0m\n\u001b[0;32m    861\u001b[0m             \u001b[0mself\u001b[0m\u001b[1;33m.\u001b[0m\u001b[0m_parent_ident\u001b[0m\u001b[1;33m,\u001b[0m\u001b[1;33m\u001b[0m\u001b[1;33m\u001b[0m\u001b[0m\n\u001b[0;32m    862\u001b[0m             \u001b[0mself\u001b[0m\u001b[1;33m.\u001b[0m\u001b[0m_parent_header\u001b[0m\u001b[1;33m,\u001b[0m\u001b[1;33m\u001b[0m\u001b[1;33m\u001b[0m\u001b[0m\n\u001b[1;32m--> 863\u001b[1;33m             \u001b[0mpassword\u001b[0m\u001b[1;33m=\u001b[0m\u001b[1;32mFalse\u001b[0m\u001b[1;33m,\u001b[0m\u001b[1;33m\u001b[0m\u001b[1;33m\u001b[0m\u001b[0m\n\u001b[0m\u001b[0;32m    864\u001b[0m         )\n\u001b[0;32m    865\u001b[0m \u001b[1;33m\u001b[0m\u001b[0m\n",
      "\u001b[1;32mD:\\anaconda\\lib\\site-packages\\ipykernel\\kernelbase.py\u001b[0m in \u001b[0;36m_input_request\u001b[1;34m(self, prompt, ident, parent, password)\u001b[0m\n\u001b[0;32m    902\u001b[0m             \u001b[1;32mexcept\u001b[0m \u001b[0mKeyboardInterrupt\u001b[0m\u001b[1;33m:\u001b[0m\u001b[1;33m\u001b[0m\u001b[1;33m\u001b[0m\u001b[0m\n\u001b[0;32m    903\u001b[0m                 \u001b[1;31m# re-raise KeyboardInterrupt, to truncate traceback\u001b[0m\u001b[1;33m\u001b[0m\u001b[1;33m\u001b[0m\u001b[1;33m\u001b[0m\u001b[0m\n\u001b[1;32m--> 904\u001b[1;33m                 \u001b[1;32mraise\u001b[0m \u001b[0mKeyboardInterrupt\u001b[0m\u001b[1;33m(\u001b[0m\u001b[1;34m\"Interrupted by user\"\u001b[0m\u001b[1;33m)\u001b[0m \u001b[1;32mfrom\u001b[0m \u001b[1;32mNone\u001b[0m\u001b[1;33m\u001b[0m\u001b[1;33m\u001b[0m\u001b[0m\n\u001b[0m\u001b[0;32m    905\u001b[0m             \u001b[1;32mexcept\u001b[0m \u001b[0mException\u001b[0m \u001b[1;32mas\u001b[0m \u001b[0me\u001b[0m\u001b[1;33m:\u001b[0m\u001b[1;33m\u001b[0m\u001b[1;33m\u001b[0m\u001b[0m\n\u001b[0;32m    906\u001b[0m                 \u001b[0mself\u001b[0m\u001b[1;33m.\u001b[0m\u001b[0mlog\u001b[0m\u001b[1;33m.\u001b[0m\u001b[0mwarning\u001b[0m\u001b[1;33m(\u001b[0m\u001b[1;34m\"Invalid Message:\"\u001b[0m\u001b[1;33m,\u001b[0m \u001b[0mexc_info\u001b[0m\u001b[1;33m=\u001b[0m\u001b[1;32mTrue\u001b[0m\u001b[1;33m)\u001b[0m\u001b[1;33m\u001b[0m\u001b[1;33m\u001b[0m\u001b[0m\n",
      "\u001b[1;31mKeyboardInterrupt\u001b[0m: Interrupted by user"
     ]
    }
   ],
   "source": [
    "#central limit theoram\n",
    "\n",
    "import math\n",
    "\n",
    "x = int(input())\n",
    "n = int(input())\n",
    "mu = int(input())\n",
    "sigma = int(input())\n",
    "\n",
    "sum_mu = n * mu \n",
    "sum_sigma = math.sqrt(n) * sigma\n",
    "\n",
    "def cdf(x, mu, sigma):\n",
    "    Z = (x - mu)/sigma\n",
    "    return 0.5*(1 + math.erf(Z/(math.sqrt(2))))\n",
    "\n",
    "print(round(cdf(x, sum_mu, sum_sigma), 4))"
   ]
  },
  {
   "cell_type": "code",
   "execution_count": null,
   "metadata": {},
   "outputs": [],
   "source": []
  }
 ],
 "metadata": {
  "anaconda-cloud": {},
  "kernelspec": {
   "display_name": "Python 3",
   "language": "python",
   "name": "python3"
  },
  "language_info": {
   "codemirror_mode": {
    "name": "ipython",
    "version": 3
   },
   "file_extension": ".py",
   "mimetype": "text/x-python",
   "name": "python",
   "nbconvert_exporter": "python",
   "pygments_lexer": "ipython3",
   "version": "3.7.6"
  }
 },
 "nbformat": 4,
 "nbformat_minor": 1
}
