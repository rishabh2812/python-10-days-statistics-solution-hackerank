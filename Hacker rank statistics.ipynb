{
 "cells": [
  {
   "cell_type": "code",
   "execution_count": null,
   "metadata": {},
   "outputs": [],
   "source": [
    "#mean median mode day 1\n",
    "n=int(input())\n",
    "x = [int(x) for x in input().split()] \n",
    "def mean(list1):\n",
    "    avg=sum(list1)/len(list1)\n",
    "    return avg\n",
    "def median(list1):\n",
    "    if(len(list1)%2==0):\n",
    "        med=len(list1)//2\n",
    "    else:\n",
    "        med=(len(list1)+1)//2\n",
    "    return (list1[med-1]+list1[med])/2\n",
    "def mode(list1):\n",
    "    dict1={}\n",
    "    for i in list1:\n",
    "        dict1[i]=list1.count(i)\n",
    "    for k,v in dict1.items():\n",
    "        if(v==max(dict1.values())):\n",
    "            return(k)  \n",
    "print(mean(x))\n",
    "print(median(x))\n",
    "print(mode(x))"
   ]
  },
  {
   "cell_type": "code",
   "execution_count": null,
   "metadata": {},
   "outputs": [],
   "source": [
    "#weighted mean day 2\n",
    "n=int(input())\n",
    "sum1=0\n",
    "x = [int(x) for x in input().split()] \n",
    "y=[int(y) for y in input().split()]\n",
    "for i in range(len(y)):\n",
    "    sum1=sum1+(x[i]*y[i])\n",
    "wm=sum1/(sum(y))\n",
    "print(round(wm,1))\n"
   ]
  },
  {
   "cell_type": "code",
   "execution_count": null,
   "metadata": {},
   "outputs": [],
   "source": [
    "#STANDARD DEVIATION day 3\n",
    "n=int(input())\n",
    "sum1=0\n",
    "x = [int(x) for x in input().split()]\n",
    "avg=sum(x)/len(x)\n",
    "for i in x:\n",
    "    sum1=sum1+((i-avg)**2)\n",
    "std=(sum1/len(x))**(0.5)\n",
    "print(round(std,1))"
   ]
  },
  {
   "cell_type": "code",
   "execution_count": 15,
   "metadata": {},
   "outputs": [
    {
     "name": "stdout",
     "output_type": "stream",
     "text": [
      "10\n",
      "3 5 7 8 12 14 14 18 15 21\n",
      "6\n",
      "13\n",
      "16\n"
     ]
    }
   ],
   "source": [
    "#Quartiles\n",
    "n=int(input())\n",
    "x=[int(x) for x in input().split()]\n",
    "x.sort()\n",
    "length=len(x)\n",
    "if(length %2 != 0):\n",
    "    \n",
    "    middle=(length)//2\n",
    "    q2=x[middle]\n",
    "    q1=(x[middle//2]+x[((middle)//2)-1])//2\n",
    "    q3=(x[((length-1)+middle)//2]+x[(((length-1)+middle)//2)+1])//2\n",
    "else:\n",
    "    middle=(length)//2\n",
    "    q2=(x[middle]+x[middle-1])//2\n",
    "    q1=(x[middle//2]+x[(middle//2)-1])//2\n",
    "    q3=((x[(length+middle)//2]+x[((middle+length)//2)+1])//2)\n",
    "print(q1)\n",
    "print(q2)\n",
    "print(q3)"
   ]
  },
  {
   "cell_type": "code",
   "execution_count": null,
   "metadata": {},
   "outputs": [],
   "source": []
  }
 ],
 "metadata": {
  "anaconda-cloud": {},
  "kernelspec": {
   "display_name": "Python 3",
   "language": "python",
   "name": "python3"
  },
  "language_info": {
   "codemirror_mode": {
    "name": "ipython",
    "version": 3
   },
   "file_extension": ".py",
   "mimetype": "text/x-python",
   "name": "python",
   "nbconvert_exporter": "python",
   "pygments_lexer": "ipython3",
   "version": "3.7.6"
  }
 },
 "nbformat": 4,
 "nbformat_minor": 1
}
